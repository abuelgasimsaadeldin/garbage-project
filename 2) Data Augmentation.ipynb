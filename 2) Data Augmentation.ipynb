{
 "cells": [
  {
   "cell_type": "markdown",
   "id": "a349ed72-606b-407d-b818-ae03c6e4e57d",
   "metadata": {},
   "source": [
    "# 🧪 Waste Detection Project – Data Augmentation\n",
    "\n",
    "In this notebook, we apply various data augmentation techniques to increase the diversity of our training dataset. These augmentations include brightness adjustment, color shifts, flips, and rotations.\n",
    "\n",
    "Before we begin, make sure your dataset is structured like this:\n",
    "```\n",
    "Garbage-Dataset/\n",
    "├── images/\n",
    "│ ├── biological_001.jpeg\n",
    "│ ├── biological_002.jpeg\n",
    "│ ├── biological_003.jpeg\n",
    "│ ├── biological_004.jpeg\n",
    "│ └── ...\n",
    "└── labels/\n",
    "├── biological_001.txt\n",
    "├── biological_002.txt\n",
    "├── biological_003.txt\n",
    "├── biological_004.txt\n",
    "└── ...\n",
    "```\n",
    "We'll apply transformations like flipping, rotation, and brightness changes — while ensuring the bounding box annotations are correctly updated for each transformed image."
   ]
  },
  {
   "cell_type": "markdown",
   "id": "5dd57f59-089c-4805-9b30-d8930955f8cb",
   "metadata": {},
   "source": [
    "## 📚 Import Required Libraries"
   ]
  },
  {
   "cell_type": "code",
   "execution_count": null,
   "id": "16b5b514-0bdb-4b57-9288-4d687b20c5ad",
   "metadata": {},
   "outputs": [],
   "source": [
    "import os\n",
    "import random\n",
    "from PIL import Image, ImageEnhance, ImageDraw\n",
    "import matplotlib.pyplot as plt\n",
    "import math"
   ]
  },
  {
   "cell_type": "markdown",
   "id": "368e6f7f-08e3-4937-a0e0-f2b15f8c98d1",
   "metadata": {},
   "source": [
    "## 📁 Define Input and Output Paths\n",
    "\n",
    "Set up the input and output directory paths for images and annotations, including folders to save augmented data."
   ]
  },
  {
   "cell_type": "code",
   "execution_count": null,
   "id": "ee2b174d-a9e4-4b88-985d-d56f0a5984d1",
   "metadata": {},
   "outputs": [],
   "source": [
    "# Input folders\n",
    "input_dir = 'Garbage-Dataset/images'\n",
    "annotations_dir = 'Garbage-Dataset/labels'\n",
    "\n",
    "# Output folders\n",
    "output_dir = \"Garbage-Dataset/augmented_images\"\n",
    "augmented_annotations_dir = \"Garbage-Dataset/augmented_labels\""
   ]
  },
  {
   "cell_type": "markdown",
   "id": "0b66fab8-345a-4a5a-8072-1198f0f60eed",
   "metadata": {},
   "source": [
    "## ✅ Ensure Required Directories Exist"
   ]
  },
  {
   "cell_type": "code",
   "execution_count": null,
   "id": "b837b82f-fdeb-4de7-929e-f2e2b2e7ff7d",
   "metadata": {},
   "outputs": [],
   "source": [
    "# Check if input and annotation directories exist\n",
    "if not os.path.exists(input_dir):\n",
    "    raise FileNotFoundError(f\"Input directory '{input_dir}' does not exist.\")\n",
    "if not os.path.exists(annotations_dir):\n",
    "    raise FileNotFoundError(f\"Annotations directory '{annotations_dir}' does not exist.\")\n",
    "\n",
    "# Create output directories\n",
    "os.makedirs(output_dir, exist_ok=True)\n",
    "os.makedirs(augmented_annotations_dir, exist_ok=True)"
   ]
  },
  {
   "cell_type": "markdown",
   "id": "83e82893-56d2-4f66-acdf-82adc9198ea0",
   "metadata": {},
   "source": [
    "## 🔄 Define Image Augmentation Function\n",
    "\n",
    "This function applies several augmentations to an input image."
   ]
  },
  {
   "cell_type": "code",
   "execution_count": null,
   "id": "0e015ea6-6ea2-4dc0-b19f-7c404f9214a0",
   "metadata": {},
   "outputs": [],
   "source": [
    "def augment_image(image, angle=0, flip=False):\n",
    "    if image.mode == \"RGBA\":\n",
    "        image = image.convert(\"RGB\")\n",
    "\n",
    "    # Random rotation\n",
    "    if angle != 0:\n",
    "        image = image.rotate(angle, expand=True)\n",
    "\n",
    "    # Random brightness adjustment\n",
    "    if random.choice([True, False]):\n",
    "        enhancer = ImageEnhance.Brightness(image)\n",
    "        image = enhancer.enhance(random.uniform(0.7, 1.3))\n",
    "\n",
    "    # Random color adjustment\n",
    "    if random.choice([True, False]):\n",
    "        enhancer = ImageEnhance.Color(image)\n",
    "        image = enhancer.enhance(random.uniform(0.7, 1.3))\n",
    "\n",
    "    # Random horizontal flip\n",
    "    if flip:\n",
    "        image = image.transpose(Image.FLIP_LEFT_RIGHT)\n",
    "\n",
    "    return image"
   ]
  },
  {
   "cell_type": "markdown",
   "id": "840dd77f-b3f8-4d95-ab2d-931b5f3b5db3",
   "metadata": {},
   "source": [
    "## 📝 Adjust Annotations for Augmented Images\n",
    "\n",
    "This function updates the bounding box coordinates in the annotation files to match the applied image augmentations."
   ]
  },
  {
   "cell_type": "code",
   "execution_count": null,
   "id": "66c6fe13-693c-4eff-a998-34d2da6b6999",
   "metadata": {},
   "outputs": [],
   "source": [
    "# Adjust YOLO labels for flip and rotation\n",
    "def augment_annotation(annotation_path, output_path, angle=0, flip=False, image_width=0, image_height=0):\n",
    "    with open(annotation_path, 'r') as file:\n",
    "        lines = file.readlines()\n",
    "\n",
    "    augmented_lines = []\n",
    "    for line in lines:\n",
    "        parts = line.strip().split()\n",
    "        class_id, x_center, y_center, width, height = map(float, parts)\n",
    "\n",
    "        # Convert to absolute coordinates\n",
    "        x_center_abs = x_center * image_width\n",
    "        y_center_abs = y_center * image_height\n",
    "\n",
    "        # Apply flip\n",
    "        if flip:\n",
    "            x_center_abs = image_width - x_center_abs\n",
    "\n",
    "        # Apply rotation\n",
    "        if angle != 0:\n",
    "            angle_rad = math.radians(angle)\n",
    "            x_new = math.cos(angle_rad) * (x_center_abs - image_width / 2) - math.sin(angle_rad) * (y_center_abs - image_height / 2) + image_width / 2\n",
    "            y_new = math.sin(angle_rad) * (x_center_abs - image_width / 2) + math.cos(angle_rad) * (y_center_abs - image_height / 2) + image_height / 2\n",
    "            x_center_abs, y_center_abs = x_new, y_new\n",
    "\n",
    "        # Convert back to YOLO\n",
    "        x_center = x_center_abs / image_width\n",
    "        y_center = y_center_abs / image_height\n",
    "\n",
    "        augmented_lines.append(f\"{int(class_id)} {x_center:.6f} {y_center:.6f} {width:.6f} {height:.6f}\\n\")\n",
    "\n",
    "    # Save\n",
    "    with open(output_path, 'w') as file:\n",
    "        file.writelines(augmented_lines)"
   ]
  },
  {
   "cell_type": "markdown",
   "id": "edb7156a-2899-412f-96a8-b4ec2765b530",
   "metadata": {},
   "source": [
    "## 🔄 Perform Augmentation on All Images\n",
    "\n",
    "For each image in the dataset:\n",
    "- Check if its annotation file exists; skip if missing.\n",
    "- Generate 2 augmented versions with random horizontal flips (no rotation here).\n",
    "- Save the augmented images and corresponding updated annotation files.\n",
    "- Errors during processing are caught and reported without stopping the entire loop."
   ]
  },
  {
   "cell_type": "code",
   "execution_count": null,
   "id": "ed373aeb-9580-4fa1-b21a-0e3581a5ad80",
   "metadata": {},
   "outputs": [],
   "source": [
    "image_files = [f for f in os.listdir(input_dir) if f.endswith(('.jpeg', '.jpg', '.png'))]\n",
    "if not image_files:\n",
    "    raise ValueError(\"No image files found.\")\n",
    "\n",
    "for img_file in image_files:\n",
    "    try:\n",
    "        img_path = os.path.join(input_dir, img_file)\n",
    "        annotation_path = os.path.join(annotations_dir, os.path.splitext(img_file)[0] + \".txt\")\n",
    "\n",
    "        if not os.path.exists(annotation_path):\n",
    "            print(f\"Missing label for {img_file}. Skipping.\")\n",
    "            continue\n",
    "\n",
    "        with Image.open(img_path) as img:\n",
    "            width, height = img.size\n",
    "\n",
    "            # Create 2 augmented versions\n",
    "            for i in range(2):\n",
    "                angle = random.randint(-15, 15)\n",
    "                flip = random.choice([True, False])\n",
    "\n",
    "                augmented_img = augment_image(img.copy(), angle=angle, flip=flip)\n",
    "\n",
    "                out_img_name = f\"aug_{i}_{img_file}\"\n",
    "                out_img_path = os.path.join(output_dir, out_img_name)\n",
    "                augmented_img.save(out_img_path, format=\"JPEG\")\n",
    "\n",
    "                out_label_name = f\"aug_{i}_{os.path.splitext(img_file)[0]}.txt\"\n",
    "                out_label_path = os.path.join(augmented_annotations_dir, out_label_name)\n",
    "\n",
    "                augment_annotation(\n",
    "                    annotation_path,\n",
    "                    out_label_path,\n",
    "                    angle=angle,\n",
    "                    flip=flip,\n",
    "                    image_width=width,\n",
    "                    image_height=height\n",
    "                )\n",
    "\n",
    "    except Exception as e:\n",
    "        print(f\"Error processing {img_file}: {e}\")"
   ]
  },
  {
   "cell_type": "markdown",
   "id": "b72852af-9d45-4c82-b432-8debbb21c9f2",
   "metadata": {},
   "source": [
    "## 🧪 Function to Visualize Image and Its Augmentations"
   ]
  },
  {
   "cell_type": "code",
   "execution_count": null,
   "id": "b56827c2-612b-4bb6-8b78-9db483718506",
   "metadata": {},
   "outputs": [],
   "source": [
    "# Draw bounding boxes on image\n",
    "def draw_annotations(image, annotation_path):\n",
    "    with open(annotation_path, 'r') as file:\n",
    "        lines = file.readlines()\n",
    "\n",
    "    draw = ImageDraw.Draw(image)\n",
    "    width, height = image.size\n",
    "\n",
    "    for line in lines:\n",
    "        class_id, x_center, y_center, box_width, box_height = map(float, line.strip().split())\n",
    "        x_min = (x_center - box_width / 2) * width\n",
    "        y_min = (y_center - box_height / 2) * height\n",
    "        x_max = (x_center + box_width / 2) * width\n",
    "        y_max = (y_center + box_height / 2) * height\n",
    "\n",
    "        color = \"green\" if class_id == 0 else \"red\"\n",
    "        draw.rectangle([x_min, y_min, x_max, y_max], outline=color, width=2)\n",
    "        draw.text((x_min, y_min), str(int(class_id)), fill=color)\n",
    "\n",
    "    return image"
   ]
  },
  {
   "cell_type": "markdown",
   "id": "6e5b23f2-f742-4a5b-a02b-a13fe92a543f",
   "metadata": {},
   "source": [
    "## 📸 Visualize Original and Augmented Images with Annotations\n",
    "\n",
    "- Select a sample image from the dataset.\n",
    "- Display the original image with bounding boxes.\n",
    "- Display augmented versions"
   ]
  },
  {
   "cell_type": "code",
   "execution_count": null,
   "id": "342eaee2-077e-40c6-89c4-c40e4112670f",
   "metadata": {},
   "outputs": [],
   "source": [
    "# Show original and augmented images\n",
    "import matplotlib.pyplot as plt\n",
    "\n",
    "sample_img = random.choice(image_files)\n",
    "img_path = os.path.join(input_dir, sample_img)\n",
    "ann_path = os.path.join(annotations_dir, os.path.splitext(sample_img)[0] + \".txt\")\n",
    "\n",
    "with Image.open(img_path) as img:\n",
    "    width, height = img.size\n",
    "    plt.figure(figsize=(15, 5))\n",
    "\n",
    "    # Original\n",
    "    annotated = draw_annotations(img.copy(), ann_path)\n",
    "    plt.subplot(1, 3, 1)\n",
    "    plt.imshow(annotated)\n",
    "    plt.title(\"Original\")\n",
    "    plt.axis(\"off\")\n",
    "\n",
    "    # Augmented versions\n",
    "    for i in range(2):\n",
    "        aug_img_path = os.path.join(output_dir, f\"aug_{i}_{sample_img}\")\n",
    "        aug_ann_path = os.path.join(augmented_annotations_dir, f\"aug_{i}_{os.path.splitext(sample_img)[0]}.txt\")\n",
    "\n",
    "        if not os.path.exists(aug_img_path) or not os.path.exists(aug_ann_path):\n",
    "            continue\n",
    "\n",
    "        with Image.open(aug_img_path) as aug_img:\n",
    "            annotated_aug = draw_annotations(aug_img.copy(), aug_ann_path)\n",
    "            plt.subplot(1, 3, i + 2)\n",
    "            plt.imshow(annotated_aug)\n",
    "            plt.title(f\"Augmentation {i+1}\")\n",
    "            plt.axis(\"off\")\n",
    "\n",
    "    plt.tight_layout()\n",
    "    plt.show()"
   ]
  },
  {
   "cell_type": "markdown",
   "id": "26787397-8781-41a7-9cd4-772b8927a7c1",
   "metadata": {},
   "source": [
    "## ✅ Done with Augmentation!\n",
    "### Your dataset is now augmented and ready for training.\n",
    "\n",
    "### Continue to the next notebook to train a YOLOv11 model using your new dataset and evaluate it on test images.\n",
    "\n",
    "#### 📦 **Next Step: [3) Model Training & Inference.ipynb](./3_Data_Augmentation.ipynb)**\n",
    "---"
   ]
  }
 ],
 "metadata": {
  "kernelspec": {
   "display_name": "garbage-project",
   "language": "python",
   "name": "garbage-project"
  },
  "language_info": {
   "codemirror_mode": {
    "name": "ipython",
    "version": 3
   },
   "file_extension": ".py",
   "mimetype": "text/x-python",
   "name": "python",
   "nbconvert_exporter": "python",
   "pygments_lexer": "ipython3",
   "version": "3.9.23"
  }
 },
 "nbformat": 4,
 "nbformat_minor": 5
}
